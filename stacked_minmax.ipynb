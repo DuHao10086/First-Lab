{
 "cells": [
  {
   "cell_type": "code",
   "execution_count": 1,
   "metadata": {},
   "outputs": [],
   "source": [
    "import numpy as np\n",
    "import pandas as pd\n",
    "import matplotlib.pyplot as plt\n",
    "import psycopg2\n",
    "from scipy.stats import ks_2samp\n",
    "%matplotlib inline\n",
    "plt.style.use('ggplot')"
   ]
  },
  {
   "cell_type": "code",
   "execution_count": 2,
   "metadata": {
    "collapsed": true
   },
   "outputs": [],
   "source": [
    "data = pd.read_csv(\"./all_data_minmax.csv\", index_col=0)\n",
    "lab_columns = data.columns.values[1:]"
   ]
  },
  {
   "cell_type": "code",
   "execution_count": null,
   "metadata": {
    "collapsed": true
   },
   "outputs": [],
   "source": [
    "data"
   ]
  },
  {
   "cell_type": "code",
   "execution_count": 3,
   "metadata": {
    "collapsed": true
   },
   "outputs": [],
   "source": [
    "l = 'LACTATE'\n",
    "LOS_med = data['los'].dropna().median()\n",
    "cond_less = (data.mort_icu==0) & (data.los < LOS_med)\n",
    "n_nonsurv = data[l.lower()+'_min'][data.mort_icu==1].dropna().count()\n",
    "n_less = data[l.lower()+'_min'][cond_less].dropna().count()\n",
    "quater = n_less / 4"
   ]
  },
  {
   "cell_type": "code",
   "execution_count": 4,
   "metadata": {},
   "outputs": [
    {
     "name": "stdout",
     "output_type": "stream",
     "text": [
      "2507\n",
      "9148\n",
      "2287\n"
     ]
    }
   ],
   "source": [
    "print n_nonsurv\n",
    "print n_less\n",
    "print quater"
   ]
  },
  {
   "cell_type": "code",
   "execution_count": 5,
   "metadata": {
    "collapsed": true
   },
   "outputs": [],
   "source": [
    "nonsurv = data[l.lower()+'_min'][data.mort_icu==1].dropna()"
   ]
  },
  {
   "cell_type": "code",
   "execution_count": 6,
   "metadata": {},
   "outputs": [
    {
     "data": {
      "text/plain": [
       "(2507,)"
      ]
     },
     "execution_count": 6,
     "metadata": {},
     "output_type": "execute_result"
    }
   ],
   "source": [
    "nonsurv.shape"
   ]
  },
  {
   "cell_type": "code",
   "execution_count": 7,
   "metadata": {
    "collapsed": true
   },
   "outputs": [],
   "source": [
    "first_quater = data.sort_values(by=['los'])[l.lower()+'_min'][cond_less].dropna().head(quater)"
   ]
  },
  {
   "cell_type": "code",
   "execution_count": 8,
   "metadata": {},
   "outputs": [
    {
     "data": {
      "text/plain": [
       "(2287,)"
      ]
     },
     "execution_count": 8,
     "metadata": {},
     "output_type": "execute_result"
    }
   ],
   "source": [
    "first_quater.shape"
   ]
  },
  {
   "cell_type": "code",
   "execution_count": 9,
   "metadata": {
    "collapsed": true
   },
   "outputs": [],
   "source": [
    "sec_quater = data.sort_values(by=['los'])[l.lower()+'_min'][cond_less].dropna()[quater:quater*2]"
   ]
  },
  {
   "cell_type": "code",
   "execution_count": 10,
   "metadata": {},
   "outputs": [
    {
     "data": {
      "text/plain": [
       "(2287,)"
      ]
     },
     "execution_count": 10,
     "metadata": {},
     "output_type": "execute_result"
    }
   ],
   "source": [
    "sec_quater.shape"
   ]
  },
  {
   "cell_type": "code",
   "execution_count": 11,
   "metadata": {
    "collapsed": true
   },
   "outputs": [],
   "source": [
    "third_quater = data.sort_values(by=['los'])[l.lower()+'_min'][cond_less].dropna()[quater*2:quater*3]"
   ]
  },
  {
   "cell_type": "code",
   "execution_count": 12,
   "metadata": {},
   "outputs": [
    {
     "data": {
      "text/plain": [
       "(2287,)"
      ]
     },
     "execution_count": 12,
     "metadata": {},
     "output_type": "execute_result"
    }
   ],
   "source": [
    "third_quater.shape"
   ]
  },
  {
   "cell_type": "code",
   "execution_count": 13,
   "metadata": {
    "collapsed": true
   },
   "outputs": [],
   "source": [
    "fourth_quater = data.sort_values(by=['los'])[l.lower()+'_min'][cond_less].dropna()[quater*3:]"
   ]
  },
  {
   "cell_type": "code",
   "execution_count": 14,
   "metadata": {},
   "outputs": [
    {
     "data": {
      "text/plain": [
       "(2287,)"
      ]
     },
     "execution_count": 14,
     "metadata": {},
     "output_type": "execute_result"
    }
   ],
   "source": [
    "fourth_quater.shape"
   ]
  },
  {
   "cell_type": "code",
   "execution_count": 15,
   "metadata": {
    "collapsed": true
   },
   "outputs": [],
   "source": [
    "first_quater.values.sort()\n",
    "nonsurv.values.sort()"
   ]
  },
  {
   "cell_type": "code",
   "execution_count": 16,
   "metadata": {
    "collapsed": true
   },
   "outputs": [],
   "source": [
    "non = pd.Series(nonsurv.values, name='Non-survival')\n",
    "first = pd.Series(first_quater.values, name='First Quarter')"
   ]
  },
  {
   "cell_type": "code",
   "execution_count": 17,
   "metadata": {
    "collapsed": true
   },
   "outputs": [],
   "source": [
    "df = first.to_frame().join(non.to_frame())\n",
    "#first_quater\n",
    "#non\n",
    "#df = df.divide(df.sum(axis=1), axis=0)"
   ]
  },
  {
   "cell_type": "code",
   "execution_count": 18,
   "metadata": {
    "collapsed": true,
    "scrolled": true
   },
   "outputs": [],
   "source": [
    "range1 = max(df['Non-survival'].max(), df['First Quarter'].max())\n",
    "range2 = min(df['Non-survival'].min(), df['First Quarter'].min())"
   ]
  },
  {
   "cell_type": "code",
   "execution_count": 19,
   "metadata": {
    "collapsed": true
   },
   "outputs": [],
   "source": [
    "x_range = np.linspace(range1, range2, num=50)"
   ]
  },
  {
   "cell_type": "code",
   "execution_count": 20,
   "metadata": {
    "collapsed": true
   },
   "outputs": [],
   "source": [
    "x_range = np.sort(x_range)"
   ]
  },
  {
   "cell_type": "code",
   "execution_count": 23,
   "metadata": {},
   "outputs": [],
   "source": [
    "x_range"
   ]
  },
  {
   "cell_type": "code",
   "execution_count": 24,
   "metadata": {},
   "outputs": [],
   "source": [
    "for x, i in enumerate(x_range[:-1]):\n",
    "    #pass\n",
    "    print i, x_range[x+1]"
   ]
  },
  {
   "cell_type": "code",
   "execution_count": 25,
   "metadata": {
    "collapsed": true
   },
   "outputs": [],
   "source": [
    "_df = pd.DataFrame(columns=['Non-survival', 'First Quarter', 'Second Quarter', 'Third Quarter', 'Fourth Quarter'])"
   ]
  },
  {
   "cell_type": "code",
   "execution_count": 26,
   "metadata": {
    "collapsed": true,
    "scrolled": true
   },
   "outputs": [],
   "source": [
    "_df['range'] = x_range"
   ]
  },
  {
   "cell_type": "code",
   "execution_count": 27,
   "metadata": {
    "collapsed": true
   },
   "outputs": [],
   "source": [
    "x_range = np.array(x_range)"
   ]
  },
  {
   "cell_type": "code",
   "execution_count": 28,
   "metadata": {
    "collapsed": true
   },
   "outputs": [],
   "source": [
    "for index, row in _df.iterrows():\n",
    "    count_non = 0\n",
    "    count_1st = 0\n",
    "    count_2nd = 0\n",
    "    count_3rd = 0\n",
    "    count_4th = 0 \n",
    "    if row['range'] != 12.3:\n",
    "        for i in nonsurv.values:\n",
    "            if i >= row['range'] and i < _df.iloc[index+1]['range']:\n",
    "                count_non += 1 \n",
    "    if row['range'] != 12.3:\n",
    "        for i in first_quater.values:\n",
    "            if i >= row['range'] and i < _df.iloc[index+1]['range']:\n",
    "                count_1st += 1 \n",
    "    if row['range'] != 12.3:\n",
    "        for i in sec_quater.values:\n",
    "            if i >= row['range'] and i < _df.iloc[index+1]['range']:\n",
    "                count_2nd += 1\n",
    "    if row['range'] != 12.3:\n",
    "        for i in third_quater.values:\n",
    "            if i >= row['range'] and i < _df.iloc[index+1]['range']:\n",
    "                count_3rd += 1\n",
    "    if row['range'] != 12.3:\n",
    "        for i in fourth_quater.values:\n",
    "            if i >= row['range'] and i < _df.iloc[index+1]['range']:\n",
    "                count_4th += 1\n",
    "    _df.set_value(index, 'Non-survival', count_non)\n",
    "    _df.set_value(index, 'First Quarter', count_1st)\n",
    "    _df.set_value(index, 'Second Quarter', count_2nd)\n",
    "    _df.set_value(index, 'Third Quarter', count_3rd)\n",
    "    _df.set_value(index, 'Fourth Quarter', count_4th)"
   ]
  },
  {
   "cell_type": "code",
   "execution_count": 29,
   "metadata": {
    "collapsed": true
   },
   "outputs": [],
   "source": [
    "_df2 = _df.set_index(['range'])\n",
    "#_df"
   ]
  },
  {
   "cell_type": "code",
   "execution_count": 30,
   "metadata": {
    "collapsed": true
   },
   "outputs": [],
   "source": [
    "_df2 = _df2[(_df2 != 0).all(1)]"
   ]
  },
  {
   "cell_type": "code",
   "execution_count": 31,
   "metadata": {
    "collapsed": true
   },
   "outputs": [],
   "source": [
    "#_df2"
   ]
  },
  {
   "cell_type": "code",
   "execution_count": 32,
   "metadata": {
    "scrolled": false
   },
   "outputs": [
    {
     "data": {
      "text/plain": [
       "<matplotlib.text.Text at 0x7fbb00ce7a90>"
      ]
     },
     "execution_count": 32,
     "metadata": {},
     "output_type": "execute_result"
    },
    {
     "data": {
      "image/png": "[encoded data removed]",
      "text/plain": [
       "<matplotlib.figure.Figure at 0x7fbb00cc9bd0>"
      ]
     },
     "metadata": {},
     "output_type": "display_data"
    }
   ],
   "source": [
    "_df3 = _df2.divide(_df2.sum(axis=1), axis=0)\n",
    "_df3.plot(kind='area', stacked=True, title='100 % stacked area chart', figsize=(13, 6))\n",
    "fig = plt.gcf()\n",
    "ax = plt.gca()\n",
    "plt.xlabel('Lactate (mmol/L)', fontsize=18)\n",
    "#_df2"
   ]
  },
  {
   "cell_type": "code",
   "execution_count": null,
   "metadata": {
    "collapsed": true
   },
   "outputs": [],
   "source": [
    "#_df2"
   ]
  }
 ],
 "metadata": {
  "kernelspec": {
   "display_name": "Personal Py2",
   "language": "python",
   "name": "py2user"
  },
  "language_info": {
   "codemirror_mode": {
    "name": "ipython",
    "version": 2
   },
   "file_extension": ".py",
   "mimetype": "text/x-python",
   "name": "python",
   "nbconvert_exporter": "python",
   "pygments_lexer": "ipython2",
   "version": "2.7.12"
  }
 },
 "nbformat": 4,
 "nbformat_minor": 2
}

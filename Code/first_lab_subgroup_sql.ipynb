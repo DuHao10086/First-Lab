{
 "cells": [
  {
   "cell_type": "markdown",
   "metadata": {},
   "source": [
    "### First lab figures\n",
    "\n",
    "This SQL is to query GL bleeding and Septic shock patients' data for subgroup study"
   ]
  },
  {
   "cell_type": "code",
   "execution_count": 1,
   "metadata": {},
   "outputs": [],
   "source": [
    "import functools\n",
    "import numpy as np\n",
    "import pandas as pd\n",
    "from scipy.stats import kstest\n",
    "import matplotlib.pyplot as plt\n",
    "import pylab as pl\n",
    "import psycopg2\n",
    "%matplotlib inline\n",
    "plt.style.use('ggplot')"
   ]
  },
  {
   "cell_type": "code",
   "execution_count": 5,
   "metadata": {
    "collapsed": true
   },
   "outputs": [],
   "source": [
    "# create a database connection\n",
    "sqluser = 'duhao'\n",
    "dbname = 'mimic'\n",
    "schema_name = 'mimiciii'"
   ]
  },
  {
   "cell_type": "markdown",
   "metadata": {},
   "source": [
    "## Lab ranges\n",
    "\n",
    "'Normal' ranges for lab values:\n",
    "\n",
    "Lab Value\t|  Lower limit\t|  Upper Limit\t|  Units\n",
    "--- | --- | --- | ---\n",
    "Bicarbonate\t| 22\t| 32\t| mEq/L\n",
    "BUN\t| 6\t| 20 | mEq/L\n",
    "Calcium\t| 8.4\t| 10.3\t| mg/dL\n",
    "Chloride\t| 96\t| 108\t| mEq/L\n",
    "Creatinine\t| 0.4\t| 1.1\t| mEq/L\n",
    "Hemoglobin\t| 11.2\t | 15.7\t| g/dL\n",
    "Lactate\t| 0.5\t| 2\t| mmol/L\n",
    "Magnesium\t| 1.6\t| 2.6\t| mg/dL\n",
    "Phosphate\t| 2.7\t| 4.5\t| mg/dL\n",
    "Platelet count\t| 150\t| 400\t| K/uL\n",
    "Potassium\t| 3.3\t| 5.1\t| mEq/L\n",
    "Sodium\t| 133\t| 145\t| mEq/L"
   ]
  },
  {
   "cell_type": "code",
   "execution_count": 6,
   "metadata": {
    "collapsed": true
   },
   "outputs": [],
   "source": [
    "# Create dictionary of ranges\n",
    "# Keys should match the lab names in the query below\n",
    "# Are these values correct given the units? Need to check.\n",
    "\n",
    "lab_ranges = {'BICARBONATE': [22,32],\n",
    "              'BUN': [6,20],\n",
    "              'CALCIUM': [8.4,10.3],\n",
    "              'CHLORIDE': [96,108],\n",
    "              'CREATININE': [0.4,1.1],\n",
    "              'HEMOGLOBIN': [11.2,15.7],\n",
    "              'LACTATE': [0.5,2.0],\n",
    "              'MAGNESIUM': [1.6,2.6],\n",
    "              'PHOSPHATE': [2.7,4.5],\n",
    "              'PLATELET': [150,400],\n",
    "              'POTASSIUM': [3.3,5.1],\n",
    "              'SODIUM': [133,145],\n",
    "              'FREECALCIUM': [4.64, 5.28]\n",
    "             }"
   ]
  },
  {
   "cell_type": "markdown",
   "metadata": {},
   "source": [
    "### SQL: get first laboratory measurements\n",
    "\n",
    "[Gastrointestinal bleeding](https://en.wikipedia.org/wiki/Gastrointestinal_bleeding): ICD-9 code 578.9  \n",
    "In MIMIC-III, the description is as follow:   \n",
    "\n",
    "ICD 9 codes|short description|long description  \n",
    "--- | --- | --- | ---\n",
    "    5789| Gastrointest hemorr NOS | Hemorrhage of gastrointestinal tract, unspecified\n"
   ]
  },
  {
   "cell_type": "code",
   "execution_count": 7,
   "metadata": {
    "scrolled": false
   },
   "outputs": [],
   "source": [
    "con = psycopg2.connect(dbname=dbname, user=sqluser, password='duhao123')\n",
    "cur = con.cursor()\n",
    "cur.execute('SET search_path to ' + schema_name)\n",
    "\n",
    "query = \\\n",
    "\"\"\"\n",
    "WITH gi_bleeding_group as\n",
    "(\n",
    "    SELECT subject_id, hadm_id,\n",
    "        CASE\n",
    "        -- Acute Organ Dysfunction Diagnosis Codes\n",
    "        WHEN substring(icd9_code,1,4) IN ('5789') THEN 1\n",
    "        ELSE 0 END AS gi_bleeding\n",
    "        -- Explicit diagnosis of severe sepsis or septic shock\n",
    "    FROM diagnoses_icd\n",
    "), \n",
    "\n",
    "infection_group AS\n",
    "(\n",
    "    SELECT subject_id, hadm_id,\n",
    "    CASE\n",
    "        WHEN substring(icd9_code,1,3) IN ('001','002','003','004','005','008',\n",
    "               '009','010','011','012','013','014','015','016','017','018',\n",
    "               '020','021','022','023','024','025','026','027','030','031',\n",
    "               '032','033','034','035','036','037','038','039','040','041',\n",
    "               '090','091','092','093','094','095','096','097','098','100',\n",
    "               '101','102','103','104','110','111','112','114','115','116',\n",
    "               '117','118','320','322','324','325','420','421','451','461',\n",
    "               '462','463','464','465','481','482','485','486','494','510',\n",
    "               '513','540','541','542','566','567','590','597','601','614',\n",
    "               '615','616','681','682','683','686','730') THEN 1\n",
    "        WHEN substring(icd9_code,1,4) IN ('5695','5720','5721','5750','5990','7110',\n",
    "                '7907','9966','9985','9993') THEN 1\n",
    "        WHEN substring(icd9_code,1,5) IN ('49121','56201','56203','56211','56213',\n",
    "                '56983') THEN 1\n",
    "        ELSE 0 END AS infection\n",
    "    FROM diagnoses_icd\n",
    "),\n",
    "-- ICD-9 codes for organ dysfunction - as sourced from Appendix 2 of above paper\n",
    "organ_diag_group as\n",
    "(\n",
    "    SELECT subject_id, hadm_id,\n",
    "        CASE\n",
    "        -- Acute Organ Dysfunction Diagnosis Codes\n",
    "        WHEN substring(icd9_code,1,3) IN ('458','293','570','584') THEN 1\n",
    "        WHEN substring(icd9_code,1,4) IN ('7855','3483','3481',\n",
    "                '2874','2875','2869','2866','5734')  THEN 1\n",
    "        ELSE 0 END AS organ_dysfunction,\n",
    "        -- Explicit diagnosis of severe sepsis or septic shock\n",
    "        CASE\n",
    "        WHEN substring(icd9_code,1,5) IN ('99592','78552')  THEN 1\n",
    "        ELSE 0 END AS explicit_sepsis\n",
    "    FROM diagnoses_icd\n",
    "),\n",
    "-- Mechanical ventilation\n",
    "organ_proc_group as\n",
    "(\n",
    "    SELECT subject_id, hadm_id,\n",
    "        CASE\n",
    "        WHEN substring(icd9_code,1,4) IN ('9670','9671','9672') THEN 1\n",
    "        ELSE 0 END AS mech_vent\n",
    "    FROM procedures_icd\n",
    "),\n",
    "-- Aggregate above views together\n",
    "aggregate as\n",
    "(\n",
    "    SELECT subject_id, hadm_id,\n",
    "        CASE\n",
    "            WHEN hadm_id in\n",
    "                    (SELECT DISTINCT hadm_id\n",
    "                    FROM infection_group\n",
    "                    WHERE infection = 1)\n",
    "                THEN 1\n",
    "            ELSE 0 END AS infection,\n",
    "        CASE\n",
    "            WHEN hadm_id in\n",
    "                    (SELECT DISTINCT hadm_id\n",
    "                    FROM organ_diag_group\n",
    "                    WHERE explicit_sepsis = 1)\n",
    "                THEN 1\n",
    "            ELSE 0 END AS explicit_sepsis,\n",
    "        CASE\n",
    "            WHEN hadm_id in\n",
    "                    (SELECT DISTINCT hadm_id\n",
    "                    FROM organ_diag_group\n",
    "                    WHERE organ_dysfunction = 1)\n",
    "                THEN 1\n",
    "            ELSE 0 END AS organ_dysfunction,\n",
    "        CASE\n",
    "        WHEN hadm_id in\n",
    "                (SELECT DISTINCT hadm_id\n",
    "                FROM organ_proc_group\n",
    "                WHERE mech_vent = 1)\n",
    "            THEN 1\n",
    "        ELSE 0 END AS mech_vent\n",
    "    FROM admissions\n",
    "),\n",
    "\n",
    "pvt AS (\n",
    "  SELECT ie.subject_id, ie.hadm_id, ie.outtime, ie.icustay_id, le.charttime, ad.deathtime, ie.los, gi.gi_bleeding\n",
    "  , ROUND((cast(ad.admittime as date) - cast(p.dob as date)) / 365.242, 2) as first_admit_age\n",
    "  , CASE when ad.deathtime between ie.intime and ie.outtime THEN 1 ELSE 0 END AS mort_icu\n",
    "  , CASE when ad.deathtime between ad.admittime and ad.dischtime THEN 1 ELSE 0 END AS mort_hosp\n",
    "  -- here we assign labels to ITEMIDs\n",
    "  -- this also fuses together multiple ITEMIDs containing the same data\n",
    "  , CASE\n",
    "        WHEN ag.explicit_sepsis = 1 THEN 1\n",
    "        WHEN ag.infection = 1 AND ag.organ_dysfunction = 1 THEN 1\n",
    "        WHEN ag.infection = 1 AND ag.mech_vent = 1 THEN 1\n",
    "        ELSE 0 END\n",
    "    AS angus\n",
    "  , CASE\n",
    "        when itemid = 50811 then 'HEMOGLOBIN'\n",
    "        when itemid = 51222 then 'HEMOGLOBIN'\n",
    "        when itemid = 50813 then 'LACTATE'\n",
    "        -- Free calcium\n",
    "        when itemid = 50808 then 'FREECALCIUM'\n",
    "      ELSE null\n",
    "      END AS label\n",
    "  , -- add in some sanity checks on the values\n",
    "    -- the where clause below requires all valuenum to be > 0,\n",
    "    -- so these are only upper limit checks\n",
    "    CASE\n",
    "      when le.itemid = 50811 and le.valuenum >    50 then null -- g/dL 'HEMOGLOBIN'\n",
    "      when le.itemid = 51222 and le.valuenum >    50 then null -- g/dL 'HEMOGLOBIN'\n",
    "      when le.itemid = 50813 and le.valuenum >    50 then null -- mmol/L 'LACTATE'\n",
    "      -- Free Calcium\n",
    "      when le.itemid = 50808 and le.valuenum > 500 then null\n",
    "    ELSE le.valuenum\n",
    "    END AS valuenum\n",
    "  FROM icustays ie\n",
    "\n",
    "  LEFT JOIN labevents le\n",
    "    ON le.subject_id = ie.subject_id\n",
    "    AND le.hadm_id = ie.hadm_id\n",
    "    AND le.charttime between (ie.intime - interval '24' hour)\n",
    "    AND (ie.intime + interval '24' hour)\n",
    "    AND le.itemid IN\n",
    "    (\n",
    "      -- comment is: LABEL | CATEGORY | FLUID | NUMBER OF ROWS IN LABEVENTS\n",
    "      51222, -- HEMOGLOBIN | HEMATOLOGY | BLOOD | 752523\n",
    "      50811, -- HEMOGLOBIN | BLOOD GAS | BLOOD | 89712\n",
    "      50813, -- LACTATE | BLOOD GAS | BLOOD | 187124\n",
    "      -- Free calcium\n",
    "      50808  --FREE CALCIUM | NA | NA | NA\n",
    "    )\n",
    "    AND le.valuenum IS NOT null\n",
    "    AND le.valuenum > 0 -- lab values cannot be 0 and cannot be negative\n",
    "\n",
    "    LEFT JOIN admissions ad\n",
    "    ON ie.subject_id = ad.subject_id\n",
    "    AND ie.hadm_id = ad.hadm_id\n",
    "    \n",
    "    LEFT JOIN gi_bleeding_group gi\n",
    "    ON ie.subject_id = gi.subject_id\n",
    "    AND ie.hadm_id = gi.hadm_id\n",
    "    \n",
    "    LEFT JOIN aggregate ag\n",
    "    ON ie.subject_id = ag.subject_id\n",
    "    AND ie.hadm_id = ag.hadm_id\n",
    "    \n",
    "    INNER JOIN patients p\n",
    "    ON ie.subject_id = p.subject_id\n",
    "    WHERE ROUND((cast(ad.admittime as date) - cast(p.dob as date)) / 365.242, 2) > 15\n",
    "    -- WHERE ie.subject_id < 10000\n",
    "),\n",
    "ranked AS (\n",
    "SELECT pvt.*, DENSE_RANK() OVER (PARTITION BY\n",
    "    pvt.subject_id, pvt.hadm_id, pvt.icustay_id, pvt.label ORDER BY cast(pvt.charttime as date)) as drank\n",
    "FROM pvt\n",
    ")\n",
    "\n",
    "SELECT r.subject_id, r.hadm_id, r.icustay_id, r.mort_icu, r.mort_hosp\n",
    "  -- , max(r.hadm_id) as HADM_ID\n",
    "  -- , max(r.icustay_id) as ICUSTAY_ID\n",
    "  , max(r.gi_bleeding) as GI_BLEEDING\n",
    "  , max(r.angus) as ANGUS\n",
    "  , max(r.los) as LOS\n",
    "  , max(r.mort_icu) as MORT_ICU\n",
    "  , max(r.mort_hosp) as MORT_HOSP\n",
    "  , max(r.first_admit_age) as FIRST_ADMIT_AGE\n",
    "  , max(r.charttime) as CHARTTIME\n",
    "  , max(case when label = 'HEMOGLOBIN' then valuenum else null end) as HEMOGLOBIN_1st\n",
    "  , max(case when label = 'LACTATE' then valuenum else null end) as LACTATE_1st\n",
    "  , max(case when label = 'FREECALCIUM' then valuenum else null end) as FREECALCIUM_1st\n",
    "FROM ranked r\n",
    "WHERE r.drank = 1\n",
    "GROUP BY r.subject_id, r.hadm_id, r.icustay_id, r.mort_icu, r.mort_hosp, r.drank\n",
    "ORDER BY r.subject_id, r.hadm_id, r.icustay_id, r.mort_icu, r.mort_hosp, r.drank;\n",
    "\"\"\"\n",
    "    \n",
    "data = pd.read_sql_query(query,con)"
   ]
  },
  {
   "cell_type": "code",
   "execution_count": 8,
   "metadata": {
    "scrolled": true
   },
   "outputs": [],
   "source": [
    "print data.shape\n",
    "print data\n",
    "#print data[data.gi_bleeding == 1].shape\n",
    "#print data[data.gi_bleeding == 0].shape"
   ]
  },
  {
   "cell_type": "code",
   "execution_count": 24,
   "metadata": {
    "collapsed": true
   },
   "outputs": [],
   "source": [
    "data.to_csv('subgroup_data.csv')\n"
   ]
  },
  {
   "cell_type": "markdown",
   "metadata": {
    "collapsed": true
   },
   "source": [
    "#### From initial to first lab measurements (to be updated)"
   ]
  },
  {
   "cell_type": "code",
   "execution_count": 9,
   "metadata": {
    "collapsed": true
   },
   "outputs": [],
   "source": [
    "data_initial = pd.read_csv(\"subgroup_data.csv\", index_col=0)\n"
   ]
  },
  {
   "cell_type": "code",
   "execution_count": 10,
   "metadata": {},
   "outputs": [],
   "source": [
    "data_final = data_initial.groupby('subject_id').apply(lambda x: x.sort_values('charttime')).reset_index(drop=True)\n"
   ]
  },
  {
   "cell_type": "code",
   "execution_count": 11,
   "metadata": {},
   "outputs": [],
   "source": [
    "print data_final\n"
   ]
  },
  {
   "cell_type": "code",
   "execution_count": 28,
   "metadata": {},
   "outputs": [],
   "source": [
    "data_final = data_final.groupby('subject_id').first().reset_index()\n"
   ]
  },
  {
   "cell_type": "code",
   "execution_count": 29,
   "metadata": {},
   "outputs": [
    {
     "name": "stdout",
     "output_type": "stream",
     "text": [
      "(1718, 15)\n"
     ]
    }
   ],
   "source": [
    "#print data_final\n",
    "print data_final[data_final.gi_bleeding == 1].shape\n"
   ]
  },
  {
   "cell_type": "code",
   "execution_count": 30,
   "metadata": {
    "collapsed": true
   },
   "outputs": [],
   "source": [
    "data_final.to_csv('subgroup_data_final.csv')\n"
   ]
  },
  {
   "cell_type": "code",
   "execution_count": 13,
   "metadata": {},
   "outputs": [],
   "source": [
    "con = psycopg2.connect(dbname=dbname, user=sqluser, password='duhao123')\n",
    "cur = con.cursor()\n",
    "cur.execute('SET search_path to ' + schema_name)\n",
    "\n",
    "query = \\\n",
    "\"\"\"\n",
    "SELECT * FROM d_icd_diagnoses dd\n",
    "\"\"\"\n",
    "\n",
    "units = pd.read_sql_query(query,con)\n",
    "print units"
   ]
  },
  {
   "cell_type": "code",
   "execution_count": 6,
   "metadata": {},
   "outputs": [],
   "source": [
    "units.to_csv(\"D_diagnose_ICD.csv\")\n"
   ]
  },
  {
   "cell_type": "code",
   "execution_count": null,
   "metadata": {
    "collapsed": true
   },
   "outputs": [],
   "source": []
  }
 ],
 "metadata": {
  "kernelspec": {
   "display_name": "Personal Py2",
   "language": "python",
   "name": "py2user"
  },
  "language_info": {
   "codemirror_mode": {
    "name": "ipython",
    "version": 2
   },
   "file_extension": ".py",
   "mimetype": "text/x-python",
   "name": "python",
   "nbconvert_exporter": "python",
   "pygments_lexer": "ipython2",
   "version": "2.7.12"
  }
 },
 "nbformat": 4,
 "nbformat_minor": 2
}

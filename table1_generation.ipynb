{
 "cells": [
  {
   "cell_type": "markdown",
   "metadata": {},
   "source": [
    "# Generate Table one for First Lab paper - 4th Sep\n",
    "\n",
    "Use tableone library first"
   ]
  },
  {
   "cell_type": "code",
   "execution_count": 17,
   "metadata": {},
   "outputs": [],
   "source": [
    "from tableone import TableOne\n",
    "import numpy as np\n",
    "import matplotlib.pyplot as plt \n",
    "import pandas as pd\n",
    "%matplotlib inline\n",
    "plt.style.use('ggplot')"
   ]
  },
  {
   "cell_type": "code",
   "execution_count": 18,
   "metadata": {},
   "outputs": [
    {
     "name": "stdout",
     "output_type": "stream",
     "text": [
      "0.2.7\n"
     ]
    }
   ],
   "source": [
    "import tableone\n",
    "print(tableone.__version__)"
   ]
  },
  {
   "cell_type": "code",
   "execution_count": 36,
   "metadata": {},
   "outputs": [],
   "source": [
    "data = pd.read_csv(\"all_data_minmax.csv\", index_col=0)"
   ]
  },
  {
   "cell_type": "code",
   "execution_count": 37,
   "metadata": {},
   "outputs": [
    {
     "data": {
      "text/plain": [
       "Index(['subject_id', 'hadm_id', 'icustay_id', 'mort_icu', 'mort_hosp',\n",
       "       'mechvent', 'vasopressor', 'gender', 'first_careunit', 'last_careunit',\n",
       "       'oasis', 'los', 'first_admit_age', 'charttime', 'aniongap_max',\n",
       "       'aniongap_min', 'albumin_max', 'albumin_min', 'bicarbonate_max',\n",
       "       'bicarbonate_min', 'bilirubin_max', 'bilirubin_min', 'creatinine_max',\n",
       "       'creatinine_min', 'chloride_max', 'chloride_min', 'glucose_max',\n",
       "       'glucose_min', 'hematocrit_max', 'hematocrit_min', 'hemoglobin_max',\n",
       "       'hemoglobin_min', 'lactate_max', 'lactate_min', 'magnesium_max',\n",
       "       'magnesium_min', 'phosphate_max', 'phosphate_min', 'platelet_max',\n",
       "       'platelet_min', 'potassium_max', 'potassium_min', 'ptt_max', 'ptt_min',\n",
       "       'inr_max', 'inr_min', 'pt_max', 'pt_min', 'sodium_max', 'sodium_min',\n",
       "       'bun_max', 'bun_min', 'wbc_max', 'wbc_min', 'calcium_max',\n",
       "       'calcium_min', 'freecalcium_max', 'freecalcium_min', 'vasopressor_1'],\n",
       "      dtype='object')"
      ]
     },
     "execution_count": 37,
     "metadata": {},
     "output_type": "execute_result"
    }
   ],
   "source": [
    "data.columns"
   ]
  },
  {
   "cell_type": "code",
   "execution_count": 38,
   "metadata": {},
   "outputs": [
    {
     "data": {
      "text/html": [
       "<div>\n",
       "<style>\n",
       "    .dataframe thead tr:only-child th {\n",
       "        text-align: right;\n",
       "    }\n",
       "\n",
       "    .dataframe thead th {\n",
       "        text-align: left;\n",
       "    }\n",
       "\n",
       "    .dataframe tbody tr th {\n",
       "        vertical-align: top;\n",
       "    }\n",
       "</style>\n",
       "<table border=\"1\" class=\"dataframe\">\n",
       "  <thead>\n",
       "    <tr style=\"text-align: right;\">\n",
       "      <th></th>\n",
       "      <th>subject_id</th>\n",
       "      <th>hadm_id</th>\n",
       "      <th>icustay_id</th>\n",
       "      <th>mort_icu</th>\n",
       "      <th>mort_hosp</th>\n",
       "      <th>mechvent</th>\n",
       "      <th>vasopressor</th>\n",
       "      <th>gender</th>\n",
       "      <th>first_careunit</th>\n",
       "      <th>last_careunit</th>\n",
       "      <th>...</th>\n",
       "      <th>sodium_min</th>\n",
       "      <th>bun_max</th>\n",
       "      <th>bun_min</th>\n",
       "      <th>wbc_max</th>\n",
       "      <th>wbc_min</th>\n",
       "      <th>calcium_max</th>\n",
       "      <th>calcium_min</th>\n",
       "      <th>freecalcium_max</th>\n",
       "      <th>freecalcium_min</th>\n",
       "      <th>vasopressor_1</th>\n",
       "    </tr>\n",
       "  </thead>\n",
       "  <tbody>\n",
       "    <tr>\n",
       "      <th>0</th>\n",
       "      <td>3</td>\n",
       "      <td>145834</td>\n",
       "      <td>211552</td>\n",
       "      <td>0</td>\n",
       "      <td>0</td>\n",
       "      <td>1</td>\n",
       "      <td>1.0</td>\n",
       "      <td>M</td>\n",
       "      <td>MICU</td>\n",
       "      <td>MICU</td>\n",
       "      <td>...</td>\n",
       "      <td>136.0</td>\n",
       "      <td>53.0</td>\n",
       "      <td>41.0</td>\n",
       "      <td>24.4</td>\n",
       "      <td>11.3</td>\n",
       "      <td>8.2</td>\n",
       "      <td>5.8</td>\n",
       "      <td>1.13</td>\n",
       "      <td>0.82</td>\n",
       "      <td>1</td>\n",
       "    </tr>\n",
       "    <tr>\n",
       "      <th>1</th>\n",
       "      <td>4</td>\n",
       "      <td>185777</td>\n",
       "      <td>294638</td>\n",
       "      <td>0</td>\n",
       "      <td>0</td>\n",
       "      <td>0</td>\n",
       "      <td>NaN</td>\n",
       "      <td>F</td>\n",
       "      <td>MICU</td>\n",
       "      <td>MICU</td>\n",
       "      <td>...</td>\n",
       "      <td>135.0</td>\n",
       "      <td>10.0</td>\n",
       "      <td>9.0</td>\n",
       "      <td>9.7</td>\n",
       "      <td>9.7</td>\n",
       "      <td>8.9</td>\n",
       "      <td>7.7</td>\n",
       "      <td>NaN</td>\n",
       "      <td>NaN</td>\n",
       "      <td>0</td>\n",
       "    </tr>\n",
       "    <tr>\n",
       "      <th>2</th>\n",
       "      <td>6</td>\n",
       "      <td>107064</td>\n",
       "      <td>228232</td>\n",
       "      <td>0</td>\n",
       "      <td>0</td>\n",
       "      <td>0</td>\n",
       "      <td>NaN</td>\n",
       "      <td>F</td>\n",
       "      <td>SICU</td>\n",
       "      <td>SICU</td>\n",
       "      <td>...</td>\n",
       "      <td>134.0</td>\n",
       "      <td>65.0</td>\n",
       "      <td>62.0</td>\n",
       "      <td>10.6</td>\n",
       "      <td>10.6</td>\n",
       "      <td>8.6</td>\n",
       "      <td>7.9</td>\n",
       "      <td>1.27</td>\n",
       "      <td>1.05</td>\n",
       "      <td>0</td>\n",
       "    </tr>\n",
       "    <tr>\n",
       "      <th>3</th>\n",
       "      <td>9</td>\n",
       "      <td>150750</td>\n",
       "      <td>220597</td>\n",
       "      <td>1</td>\n",
       "      <td>1</td>\n",
       "      <td>1</td>\n",
       "      <td>1.0</td>\n",
       "      <td>M</td>\n",
       "      <td>MICU</td>\n",
       "      <td>MICU</td>\n",
       "      <td>...</td>\n",
       "      <td>136.0</td>\n",
       "      <td>17.0</td>\n",
       "      <td>16.0</td>\n",
       "      <td>13.7</td>\n",
       "      <td>7.5</td>\n",
       "      <td>9.2</td>\n",
       "      <td>9.2</td>\n",
       "      <td>1.14</td>\n",
       "      <td>0.99</td>\n",
       "      <td>1</td>\n",
       "    </tr>\n",
       "    <tr>\n",
       "      <th>4</th>\n",
       "      <td>11</td>\n",
       "      <td>194540</td>\n",
       "      <td>229441</td>\n",
       "      <td>0</td>\n",
       "      <td>0</td>\n",
       "      <td>0</td>\n",
       "      <td>NaN</td>\n",
       "      <td>F</td>\n",
       "      <td>SICU</td>\n",
       "      <td>SICU</td>\n",
       "      <td>...</td>\n",
       "      <td>138.0</td>\n",
       "      <td>19.0</td>\n",
       "      <td>12.0</td>\n",
       "      <td>12.8</td>\n",
       "      <td>8.5</td>\n",
       "      <td>9.6</td>\n",
       "      <td>9.6</td>\n",
       "      <td>NaN</td>\n",
       "      <td>NaN</td>\n",
       "      <td>0</td>\n",
       "    </tr>\n",
       "  </tbody>\n",
       "</table>\n",
       "<p>5 rows × 59 columns</p>\n",
       "</div>"
      ],
      "text/plain": [
       "   subject_id  hadm_id  icustay_id  mort_icu  mort_hosp  mechvent  \\\n",
       "0           3   145834      211552         0          0         1   \n",
       "1           4   185777      294638         0          0         0   \n",
       "2           6   107064      228232         0          0         0   \n",
       "3           9   150750      220597         1          1         1   \n",
       "4          11   194540      229441         0          0         0   \n",
       "\n",
       "   vasopressor gender first_careunit last_careunit      ...        sodium_min  \\\n",
       "0          1.0      M           MICU          MICU      ...             136.0   \n",
       "1          NaN      F           MICU          MICU      ...             135.0   \n",
       "2          NaN      F           SICU          SICU      ...             134.0   \n",
       "3          1.0      M           MICU          MICU      ...             136.0   \n",
       "4          NaN      F           SICU          SICU      ...             138.0   \n",
       "\n",
       "   bun_max  bun_min wbc_max  wbc_min  calcium_max  calcium_min  \\\n",
       "0     53.0     41.0    24.4     11.3          8.2          5.8   \n",
       "1     10.0      9.0     9.7      9.7          8.9          7.7   \n",
       "2     65.0     62.0    10.6     10.6          8.6          7.9   \n",
       "3     17.0     16.0    13.7      7.5          9.2          9.2   \n",
       "4     19.0     12.0    12.8      8.5          9.6          9.6   \n",
       "\n",
       "   freecalcium_max  freecalcium_min  vasopressor_1  \n",
       "0             1.13             0.82              1  \n",
       "1              NaN              NaN              0  \n",
       "2             1.27             1.05              0  \n",
       "3             1.14             0.99              1  \n",
       "4              NaN              NaN              0  \n",
       "\n",
       "[5 rows x 59 columns]"
      ]
     },
     "execution_count": 38,
     "metadata": {},
     "output_type": "execute_result"
    }
   ],
   "source": [
    "data.head()"
   ]
  },
  {
   "cell_type": "code",
   "execution_count": 39,
   "metadata": {},
   "outputs": [
    {
     "data": {
      "text/plain": [
       "(38605,)"
      ]
     },
     "execution_count": 39,
     "metadata": {},
     "output_type": "execute_result"
    }
   ],
   "source": [
    "data.subject_id.unique().shape"
   ]
  },
  {
   "cell_type": "code",
   "execution_count": 40,
   "metadata": {},
   "outputs": [
    {
     "name": "stdout",
     "output_type": "stream",
     "text": [
      "3090\n",
      "35515\n",
      "8878\n"
     ]
    }
   ],
   "source": [
    "n_nonsurv = data['subject_id'][data.mort_icu==1].dropna().unique().shape[0]\n",
    "n_less = data['subject_id'][data.mort_icu==0].dropna().unique().shape[0]\n",
    "quarter = n_less // 4\n",
    "print(n_nonsurv)\n",
    "print(n_less)\n",
    "print(quarter)"
   ]
  },
  {
   "cell_type": "code",
   "execution_count": 41,
   "metadata": {},
   "outputs": [
    {
     "name": "stderr",
     "output_type": "stream",
     "text": [
      "/home/duhao/.virtualenvs/3/lib/python3.5/site-packages/ipykernel_launcher.py:2: UserWarning: Boolean Series key will be reindexed to match DataFrame index.\n",
      "  \n",
      "/home/duhao/.virtualenvs/3/lib/python3.5/site-packages/ipykernel_launcher.py:4: SettingWithCopyWarning: \n",
      "A value is trying to be set on a copy of a slice from a DataFrame.\n",
      "Try using .loc[row_indexer,col_indexer] = value instead\n",
      "\n",
      "See the caveats in the documentation: http://pandas.pydata.org/pandas-docs/stable/indexing.html#indexing-view-versus-copy\n",
      "  after removing the cwd from sys.path.\n"
     ]
    }
   ],
   "source": [
    "data_nonsurv = data[data.mort_icu == 1]\n",
    "data_firstq = data.sort_values(by=['los'])[data.mort_icu == 0].head(quarter)\n",
    "los_firstq = data.sort_values(by=['los'])['los'][data.mort_icu == 0].head(quarter).max()\n",
    "data_nonsurv['Non_survive'] = 1\n",
    "data_firstq['Non_survive'] = 0"
   ]
  },
  {
   "cell_type": "code",
   "execution_count": 42,
   "metadata": {},
   "outputs": [],
   "source": [
    "#data_firstq"
   ]
  },
  {
   "cell_type": "code",
   "execution_count": 43,
   "metadata": {},
   "outputs": [],
   "source": [
    "data_table1 = pd.concat([data_nonsurv, data_firstq], ignore_index=True)"
   ]
  },
  {
   "cell_type": "code",
   "execution_count": 44,
   "metadata": {},
   "outputs": [],
   "source": [
    "#data_table1"
   ]
  },
  {
   "cell_type": "code",
   "execution_count": 49,
   "metadata": {},
   "outputs": [],
   "source": [
    "columns = ['mort_icu', 'mort_hosp', 'first_admit_age', 'gender', 'oasis', 'mechvent', 'aniongap_max', 'aniongap_min', 'albumin_max',\n",
    "       'albumin_min', 'bicarbonate_max', 'bicarbonate_min', 'bilirubin_max',\n",
    "       'bilirubin_min', 'creatinine_max', 'creatinine_min', 'chloride_max',\n",
    "       'chloride_min', 'glucose_max', 'glucose_min',\n",
    "       'hematocrit_max', 'hematocrit_min', 'hemoglobin_max',\n",
    "       'hemoglobin_min', 'lactate_max', 'lactate_min', 'magnesium_max',\n",
    "       'magnesium_min', 'phosphate_max', 'phosphate_min', 'platelet_max',\n",
    "       'platelet_min', 'potassium_max', 'potassium_min', 'ptt_max', 'ptt_min',\n",
    "       'inr_max', 'inr_min', 'pt_max', 'pt_min', 'sodium_max', 'sodium_min',\n",
    "       'bun_max', 'bun_min', 'wbc_max', 'wbc_min', 'calcium_max',\n",
    "       'calcium_min', 'freecalcium_max', 'freecalcium_min']\n",
    "categorical = ['mort_icu', 'mort_hosp', 'gender', 'first_careunit', 'last_careunit', 'vasopressor_1', 'mechvent']\n",
    "nonnormal = ['first_admit_age', 'oasis', 'aniongap_max', 'aniongap_min', 'albumin_max',\n",
    "       'albumin_min', 'bicarbonate_max', 'bicarbonate_min', 'bilirubin_max',\n",
    "       'bilirubin_min', 'creatinine_max', 'creatinine_min', 'chloride_max',\n",
    "       'chloride_min', 'glucose_max', 'glucose_min', \n",
    "       'hematocrit_max', 'hematocrit_min', 'hemoglobin_max',\n",
    "       'hemoglobin_min', 'lactate_max', 'lactate_min', 'magnesium_max',\n",
    "       'magnesium_min', 'phosphate_max', 'phosphate_min', 'platelet_max',\n",
    "       'platelet_min', 'potassium_max', 'potassium_min', 'ptt_max', 'ptt_min',\n",
    "       'inr_max', 'inr_min', 'pt_max', 'pt_min', 'sodium_max', 'sodium_min',\n",
    "       'bun_max', 'bun_min', 'wbc_max', 'wbc_min', 'calcium_max',\n",
    "       'calcium_min', 'freecalcium_max', 'freecalcium_min']\n",
    "groupby = 'Non_survive'"
   ]
  },
  {
   "cell_type": "code",
   "execution_count": 50,
   "metadata": {},
   "outputs": [],
   "source": [
    "overall_table = TableOne(data_table1, columns, categorical, groupby, nonnormal, pval=True)"
   ]
  },
  {
   "cell_type": "code",
   "execution_count": 51,
   "metadata": {},
   "outputs": [
    {
     "data": {
      "text/plain": [
       "Stratified by Non_survive\n",
       "                                0                       1                         isnull  pval    testname\n",
       "------------------------------  ----------------------  ----------------------  --------  ------  --------------\n",
       "n                               8878                    3090                           0\n",
       "first_admit_age (median [IQR])  63.05 [49.96,75.83]     73.18 [59.84,82.56]            0  0.000   Kruskal-Wallis\n",
       "oasis (median [IQR])            27.00 [22.00,32.00]     41.00 [35.00,48.00]            0  0.000   Kruskal-Wallis\n",
       "aniongap_max (median [IQR])     15.00 [13.00,17.00]     18.00 [15.00,22.00]          519  0.000   Kruskal-Wallis\n",
       "aniongap_min (median [IQR])     12.00 [11.00,14.00]     14.00 [12.00,17.00]          519  0.000   Kruskal-Wallis\n",
       "albumin_max (median [IQR])      3.60 [3.10,4.00]        3.00 [2.50,3.50]            7575  0.000   Kruskal-Wallis\n",
       "albumin_min (median [IQR])      3.50 [3.00,4.00]        2.80 [2.30,3.40]            7575  0.000   Kruskal-Wallis\n",
       "bicarbonate_max (median [IQR])  26.00 [24.00,28.00]     24.00 [20.00,27.00]          399  0.000   Kruskal-Wallis\n",
       "bicarbonate_min (median [IQR])  24.00 [21.00,26.00]     20.00 [15.00,23.00]          399  0.000   Kruskal-Wallis\n",
       "bilirubin_max (median [IQR])    0.60 [0.40,1.00]        0.90 [0.50,2.20]            6636  0.000   Kruskal-Wallis\n",
       "bilirubin_min (median [IQR])    0.50 [0.30,0.90]        0.70 [0.40,1.70]            6636  0.000   Kruskal-Wallis\n",
       "creatinine_max (median [IQR])   0.90 [0.80,1.20]        1.40 [0.90,2.30]             230  0.000   Kruskal-Wallis\n",
       "creatinine_min (median [IQR])   0.80 [0.70,1.00]        1.10 [0.70,1.80]             230  0.000   Kruskal-Wallis\n",
       "chloride_max (median [IQR])     107.00 [103.00,110.00]  107.00 [103.00,112.00]       251  0.000   Kruskal-Wallis\n",
       "chloride_min (median [IQR])     103.00 [100.00,105.00]  102.00 [97.00,106.00]        251  0.000   Kruskal-Wallis\n",
       "glucose_max (median [IQR])      147.00 [119.00,184.00]  185.00 [145.00,255.00]       213  0.000   Kruskal-Wallis\n",
       "glucose_min (median [IQR])      102.00 [90.00,121.00]   113.00 [89.00,144.00]        213  0.000   Kruskal-Wallis\n",
       "hematocrit_max (median [IQR])   37.30 [33.20,41.00]     36.00 [32.00,40.50]          184  0.000   Kruskal-Wallis\n",
       "hematocrit_min (median [IQR])   31.30 [26.80,35.90]     29.60 [25.30,34.60]          184  0.000   Kruskal-Wallis\n",
       "hemoglobin_max (median [IQR])   12.60 [11.10,13.90]     12.00 [10.60,13.50]          210  0.000   Kruskal-Wallis\n",
       "hemoglobin_min (median [IQR])   10.70 [9.10,12.30]      9.90 [8.40,11.60]            210  0.000   Kruskal-Wallis\n",
       "lactate_max (median [IQR])      2.00 [1.40,2.90]        3.60 [2.00,7.20]            5388  0.000   Kruskal-Wallis\n",
       "lactate_min (median [IQR])      1.50 [1.10,2.00]        2.00 [1.40,3.50]            5388  0.000   Kruskal-Wallis\n",
       "magnesium_max (median [IQR])    2.00 [1.90,2.30]        2.20 [2.00,2.50]            1155  0.000   Kruskal-Wallis\n",
       "magnesium_min (median [IQR])    1.90 [1.70,2.00]        1.80 [1.60,2.10]            1155  0.000   Kruskal-Wallis\n",
       "phosphate_max (median [IQR])    3.60 [3.10,4.20]        4.30 [3.40,5.80]            2043  0.000   Kruskal-Wallis\n",
       "phosphate_min (median [IQR])    3.20 [2.70,3.80]        3.30 [2.50,4.40]            2043  0.000   Kruskal-Wallis\n",
       "platelet_max (median [IQR])     235.00 [184.00,301.00]  221.00 [153.00,306.00]       254  0.000   Kruskal-Wallis\n",
       "platelet_min (median [IQR])     200.00 [149.00,257.00]  172.50 [102.00,244.00]       254  0.000   Kruskal-Wallis\n",
       "potassium_max (median [IQR])    4.40 [4.10,5.00]        4.70 [4.20,5.40]             191  0.000   Kruskal-Wallis\n",
       "potassium_min (median [IQR])    3.80 [3.50,4.00]        3.70 [3.30,4.20]             191  0.040   Kruskal-Wallis\n",
       "ptt_max (median [IQR])          29.90 [26.00,37.50]     37.80 [28.60,66.50]         1400  0.000   Kruskal-Wallis\n",
       "ptt_min (median [IQR])          27.40 [24.50,31.20]     29.90 [25.40,37.30]         1400  0.000   Kruskal-Wallis\n",
       "inr_max (median [IQR])          1.20 [1.10,1.40]        1.50 [1.20,2.20]            1345  0.000   Kruskal-Wallis\n",
       "inr_min (median [IQR])          1.10 [1.10,1.30]        1.30 [1.10,1.60]            1345  0.000   Kruskal-Wallis\n",
       "pt_max (median [IQR])           13.80 [12.80,15.30]     16.00 [13.80,20.70]         1341  0.000   Kruskal-Wallis\n",
       "pt_min (median [IQR])           13.20 [12.40,14.20]     14.20 [13.00,16.60]         1341  0.000   Kruskal-Wallis\n",
       "sodium_max (median [IQR])       140.00 [138.00,142.00]  141.00 [138.00,144.00]       213  0.000   Kruskal-Wallis\n",
       "sodium_min (median [IQR])       137.00 [135.00,139.00]  137.00 [133.00,140.00]       213  0.000   Kruskal-Wallis\n",
       "bun_max (median [IQR])          18.00 [13.00,25.00]     29.00 [19.00,48.00]          228  0.000   Kruskal-Wallis\n",
       "bun_min (median [IQR])          15.00 [11.00,21.00]     24.00 [15.00,40.00]          228  0.000   Kruskal-Wallis\n",
       "wbc_max (median [IQR])          11.40 [8.50,14.90]      15.00 [10.60,20.60]          286  0.000   Kruskal-Wallis\n",
       "wbc_min (median [IQR])          8.70 [6.50,11.40]       10.80 [6.90,15.30]           286  0.000   Kruskal-Wallis\n",
       "calcium_max (median [IQR])      8.70 [8.30,9.10]        8.60 [8.00,9.10]            2038  0.000   Kruskal-Wallis\n",
       "calcium_min (median [IQR])      8.40 [7.90,8.80]        7.90 [7.20,8.50]            2038  0.000   Kruskal-Wallis\n",
       "freecalcium_max (median [IQR])  1.19 [1.13,1.26]        1.14 [1.08,1.21]            6930  0.000   Kruskal-Wallis\n",
       "freecalcium_min (median [IQR])  1.08 [1.02,1.12]        1.03 [0.93,1.11]            6930  0.000   Kruskal-Wallis\n",
       "mort_icu (n (%))                                                                       0  0.000   Fisher exact\n",
       "0                               8878 (100.00)           0 (0.00)\n",
       "1                               0 (0.00)                3090 (100.00)\n",
       "mort_hosp (n (%))                                                                      0  0.000   Chi-squared\n",
       "0                               8658 (97.52)            12 (0.39)\n",
       "1                               220 (2.48)              3078 (99.61)\n",
       "gender (n (%))                                                                         0  0.000   Chi-squared\n",
       "F                               3766 (42.42)            1465 (47.41)\n",
       "M                               5112 (57.58)            1625 (52.59)\n",
       "first_careunit (n (%))                                                                 0  0.000   Chi-squared\n",
       "CCU                             1278 (14.40)            489 (15.83)\n",
       "CSRU                            1760 (19.82)            217 (7.02)\n",
       "MICU                            3220 (36.27)            1359 (43.98)\n",
       "SICU                            1369 (15.42)            594 (19.22)\n",
       "TSICU                           1251 (14.09)            431 (13.95)\n",
       "last_careunit (n (%))                                                                  0  0.000   Chi-squared\n",
       "CCU                             1277 (14.38)            459 (14.85)\n",
       "CSRU                            1759 (19.81)            204 (6.60)\n",
       "MICU                            3216 (36.22)            1378 (44.60)\n",
       "SICU                            1377 (15.51)            640 (20.71)\n",
       "TSICU                           1249 (14.07)            409 (13.24)\n",
       "vasopressor_1 (n (%))                                                                  0  0.000   Chi-squared\n",
       "0                               7441 (83.81)            968 (31.33)\n",
       "1                               1437 (16.19)            2122 (68.67)\n",
       "mechvent (n (%))                                                                       0  0.000   Chi-squared\n",
       "0                               6474 (72.92)            397 (12.85)\n",
       "1                               2404 (27.08)            2693 (87.15)"
      ]
     },
     "execution_count": 51,
     "metadata": {},
     "output_type": "execute_result"
    }
   ],
   "source": [
    "overall_table"
   ]
  },
  {
   "cell_type": "code",
   "execution_count": 52,
   "metadata": {},
   "outputs": [],
   "source": [
    "overall_table.to_csv(\"./tableone.csv\")"
   ]
  },
  {
   "cell_type": "code",
   "execution_count": null,
   "metadata": {
    "collapsed": true
   },
   "outputs": [],
   "source": [
    "from scipy.stats import mstats\n",
    "from scipy.stats import mannwhitneyu\n",
    "from scipy.stats import f_oneway"
   ]
  },
  {
   "cell_type": "code",
   "execution_count": null,
   "metadata": {},
   "outputs": [],
   "source": [
    "data1 = data_table1.loc[data_table1.Non_survive==1, 'hematocrit_max']\n",
    "data2 = data_table1.loc[data_table1.Non_survive==0, 'hematocrit_max']\n",
    "H, pval = mannwhitneyu(data1.values, data2.values)"
   ]
  },
  {
   "cell_type": "code",
   "execution_count": null,
   "metadata": {},
   "outputs": [],
   "source": [
    "pval"
   ]
  },
  {
   "cell_type": "code",
   "execution_count": null,
   "metadata": {
    "collapsed": true
   },
   "outputs": [],
   "source": []
  }
 ],
 "metadata": {
  "kernelspec": {
   "display_name": "Personal Py3",
   "language": "python",
   "name": "py3user"
  },
  "language_info": {
   "codemirror_mode": {
    "name": "ipython",
    "version": 3
   },
   "file_extension": ".py",
   "mimetype": "text/x-python",
   "name": "python",
   "nbconvert_exporter": "python",
   "pygments_lexer": "ipython3",
   "version": "3.5.2"
  }
 },
 "nbformat": 4,
 "nbformat_minor": 2
}

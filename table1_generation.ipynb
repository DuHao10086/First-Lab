{
 "cells": [
  {
   "cell_type": "markdown",
   "metadata": {},
   "source": [
    "# Generate Table one for First Lab paper - 4th Sep\n",
    "\n",
    "Use tableone library frist "
   ]
  },
  {
   "cell_type": "code",
   "execution_count": 61,
   "metadata": {
    "collapsed": true
   },
   "outputs": [],
   "source": [
    "from tableone import TableOne\n",
    "import numpy as np\n",
    "import matplotlib.pyplot as plt \n",
    "import pandas as pd\n",
    "%matplotlib inline\n",
    "plt.style.use('ggplot')"
   ]
  },
  {
   "cell_type": "code",
   "execution_count": 63,
   "metadata": {},
   "outputs": [
    {
     "name": "stdout",
     "output_type": "stream",
     "text": [
      "0.2.7\n"
     ]
    }
   ],
   "source": [
    "import tableone\n",
    "print(tableone.__version__)"
   ]
  },
  {
   "cell_type": "code",
   "execution_count": 2,
   "metadata": {
    "collapsed": true
   },
   "outputs": [],
   "source": [
    "data = pd.read_csv(\"all_data_minmax.csv\", index_col=0)"
   ]
  },
  {
   "cell_type": "code",
   "execution_count": 3,
   "metadata": {},
   "outputs": [
    {
     "data": {
      "text/plain": [
       "Index(['subject_id', 'hadm_id', 'icustay_id', 'mort_icu', 'mort_hosp',\n",
       "       'mechvent', 'vasopressor', 'gender', 'first_careunit', 'last_careunit',\n",
       "       'oasis', 'los', 'mort_icu.1', 'mort_hosp.1', 'first_admit_age',\n",
       "       'charttime', 'aniongap_max', 'aniongap_min', 'albumin_max',\n",
       "       'albumin_min', 'bicarbonate_max', 'bicarbonate_min', 'bilirubin_max',\n",
       "       'bilirubin_min', 'creatinine_max', 'creatinine_min', 'chloride_max',\n",
       "       'chloride_min', 'glucose_max', 'glucose_min', 'glucose2_max',\n",
       "       'glucose2_min', 'hematocrit_max', 'hematocrit_min', 'hemoglobin_max',\n",
       "       'hemoglobin_min', 'lactate_max', 'lactate_min', 'magnesium_max',\n",
       "       'magnesium_min', 'phosphate_max', 'phosphate_min', 'platelet_max',\n",
       "       'platelet_min', 'potassium_max', 'potassium_min', 'ptt_max', 'ptt_min',\n",
       "       'inr_max', 'inr_min', 'pt_max', 'pt_min', 'sodium_max', 'sodium_min',\n",
       "       'bun_max', 'bun_min', 'wbc_max', 'wbc_min', 'calcium_max',\n",
       "       'calcium_min', 'freecalcium_max', 'freecalcium_min', 'vasopressor_1'],\n",
       "      dtype='object')"
      ]
     },
     "execution_count": 3,
     "metadata": {},
     "output_type": "execute_result"
    }
   ],
   "source": [
    "data.columns"
   ]
  },
  {
   "cell_type": "code",
   "execution_count": 4,
   "metadata": {},
   "outputs": [
    {
     "data": {
      "text/html": [
       "<div>\n",
       "<style>\n",
       "    .dataframe thead tr:only-child th {\n",
       "        text-align: right;\n",
       "    }\n",
       "\n",
       "    .dataframe thead th {\n",
       "        text-align: left;\n",
       "    }\n",
       "\n",
       "    .dataframe tbody tr th {\n",
       "        vertical-align: top;\n",
       "    }\n",
       "</style>\n",
       "<table border=\"1\" class=\"dataframe\">\n",
       "  <thead>\n",
       "    <tr style=\"text-align: right;\">\n",
       "      <th></th>\n",
       "      <th>subject_id</th>\n",
       "      <th>hadm_id</th>\n",
       "      <th>icustay_id</th>\n",
       "      <th>mort_icu</th>\n",
       "      <th>mort_hosp</th>\n",
       "      <th>mechvent</th>\n",
       "      <th>vasopressor</th>\n",
       "      <th>gender</th>\n",
       "      <th>first_careunit</th>\n",
       "      <th>last_careunit</th>\n",
       "      <th>...</th>\n",
       "      <th>sodium_min</th>\n",
       "      <th>bun_max</th>\n",
       "      <th>bun_min</th>\n",
       "      <th>wbc_max</th>\n",
       "      <th>wbc_min</th>\n",
       "      <th>calcium_max</th>\n",
       "      <th>calcium_min</th>\n",
       "      <th>freecalcium_max</th>\n",
       "      <th>freecalcium_min</th>\n",
       "      <th>vasopressor_1</th>\n",
       "    </tr>\n",
       "  </thead>\n",
       "  <tbody>\n",
       "    <tr>\n",
       "      <th>0</th>\n",
       "      <td>3</td>\n",
       "      <td>145834</td>\n",
       "      <td>211552</td>\n",
       "      <td>0</td>\n",
       "      <td>0</td>\n",
       "      <td>1</td>\n",
       "      <td>1.0</td>\n",
       "      <td>M</td>\n",
       "      <td>MICU</td>\n",
       "      <td>MICU</td>\n",
       "      <td>...</td>\n",
       "      <td>136.0</td>\n",
       "      <td>53.0</td>\n",
       "      <td>41.0</td>\n",
       "      <td>24.4</td>\n",
       "      <td>11.3</td>\n",
       "      <td>8.2</td>\n",
       "      <td>5.8</td>\n",
       "      <td>1.13</td>\n",
       "      <td>0.82</td>\n",
       "      <td>1</td>\n",
       "    </tr>\n",
       "    <tr>\n",
       "      <th>1</th>\n",
       "      <td>4</td>\n",
       "      <td>185777</td>\n",
       "      <td>294638</td>\n",
       "      <td>0</td>\n",
       "      <td>0</td>\n",
       "      <td>0</td>\n",
       "      <td>NaN</td>\n",
       "      <td>F</td>\n",
       "      <td>MICU</td>\n",
       "      <td>MICU</td>\n",
       "      <td>...</td>\n",
       "      <td>135.0</td>\n",
       "      <td>10.0</td>\n",
       "      <td>9.0</td>\n",
       "      <td>9.7</td>\n",
       "      <td>9.7</td>\n",
       "      <td>8.9</td>\n",
       "      <td>7.7</td>\n",
       "      <td>NaN</td>\n",
       "      <td>NaN</td>\n",
       "      <td>0</td>\n",
       "    </tr>\n",
       "    <tr>\n",
       "      <th>2</th>\n",
       "      <td>6</td>\n",
       "      <td>107064</td>\n",
       "      <td>228232</td>\n",
       "      <td>0</td>\n",
       "      <td>0</td>\n",
       "      <td>0</td>\n",
       "      <td>NaN</td>\n",
       "      <td>F</td>\n",
       "      <td>SICU</td>\n",
       "      <td>SICU</td>\n",
       "      <td>...</td>\n",
       "      <td>134.0</td>\n",
       "      <td>65.0</td>\n",
       "      <td>62.0</td>\n",
       "      <td>10.6</td>\n",
       "      <td>10.6</td>\n",
       "      <td>8.6</td>\n",
       "      <td>7.9</td>\n",
       "      <td>1.27</td>\n",
       "      <td>1.05</td>\n",
       "      <td>0</td>\n",
       "    </tr>\n",
       "    <tr>\n",
       "      <th>3</th>\n",
       "      <td>9</td>\n",
       "      <td>150750</td>\n",
       "      <td>220597</td>\n",
       "      <td>1</td>\n",
       "      <td>1</td>\n",
       "      <td>1</td>\n",
       "      <td>1.0</td>\n",
       "      <td>M</td>\n",
       "      <td>MICU</td>\n",
       "      <td>MICU</td>\n",
       "      <td>...</td>\n",
       "      <td>136.0</td>\n",
       "      <td>17.0</td>\n",
       "      <td>16.0</td>\n",
       "      <td>13.7</td>\n",
       "      <td>7.5</td>\n",
       "      <td>9.2</td>\n",
       "      <td>9.2</td>\n",
       "      <td>1.14</td>\n",
       "      <td>0.99</td>\n",
       "      <td>1</td>\n",
       "    </tr>\n",
       "    <tr>\n",
       "      <th>4</th>\n",
       "      <td>11</td>\n",
       "      <td>194540</td>\n",
       "      <td>229441</td>\n",
       "      <td>0</td>\n",
       "      <td>0</td>\n",
       "      <td>0</td>\n",
       "      <td>NaN</td>\n",
       "      <td>F</td>\n",
       "      <td>SICU</td>\n",
       "      <td>SICU</td>\n",
       "      <td>...</td>\n",
       "      <td>138.0</td>\n",
       "      <td>19.0</td>\n",
       "      <td>12.0</td>\n",
       "      <td>12.8</td>\n",
       "      <td>8.5</td>\n",
       "      <td>9.6</td>\n",
       "      <td>9.6</td>\n",
       "      <td>NaN</td>\n",
       "      <td>NaN</td>\n",
       "      <td>0</td>\n",
       "    </tr>\n",
       "  </tbody>\n",
       "</table>\n",
       "<p>5 rows × 63 columns</p>\n",
       "</div>"
      ],
      "text/plain": [
       "   subject_id  hadm_id  icustay_id  mort_icu  mort_hosp  mechvent  \\\n",
       "0           3   145834      211552         0          0         1   \n",
       "1           4   185777      294638         0          0         0   \n",
       "2           6   107064      228232         0          0         0   \n",
       "3           9   150750      220597         1          1         1   \n",
       "4          11   194540      229441         0          0         0   \n",
       "\n",
       "   vasopressor gender first_careunit last_careunit      ...        sodium_min  \\\n",
       "0          1.0      M           MICU          MICU      ...             136.0   \n",
       "1          NaN      F           MICU          MICU      ...             135.0   \n",
       "2          NaN      F           SICU          SICU      ...             134.0   \n",
       "3          1.0      M           MICU          MICU      ...             136.0   \n",
       "4          NaN      F           SICU          SICU      ...             138.0   \n",
       "\n",
       "   bun_max  bun_min  wbc_max  wbc_min calcium_max  calcium_min  \\\n",
       "0     53.0     41.0     24.4     11.3         8.2          5.8   \n",
       "1     10.0      9.0      9.7      9.7         8.9          7.7   \n",
       "2     65.0     62.0     10.6     10.6         8.6          7.9   \n",
       "3     17.0     16.0     13.7      7.5         9.2          9.2   \n",
       "4     19.0     12.0     12.8      8.5         9.6          9.6   \n",
       "\n",
       "   freecalcium_max  freecalcium_min  vasopressor_1  \n",
       "0             1.13             0.82              1  \n",
       "1              NaN              NaN              0  \n",
       "2             1.27             1.05              0  \n",
       "3             1.14             0.99              1  \n",
       "4              NaN              NaN              0  \n",
       "\n",
       "[5 rows x 63 columns]"
      ]
     },
     "execution_count": 4,
     "metadata": {},
     "output_type": "execute_result"
    }
   ],
   "source": [
    "data.head()"
   ]
  },
  {
   "cell_type": "code",
   "execution_count": 5,
   "metadata": {},
   "outputs": [
    {
     "data": {
      "text/plain": [
       "(38605,)"
      ]
     },
     "execution_count": 5,
     "metadata": {},
     "output_type": "execute_result"
    }
   ],
   "source": [
    "data.subject_id.unique().shape"
   ]
  },
  {
   "cell_type": "code",
   "execution_count": 25,
   "metadata": {},
   "outputs": [
    {
     "name": "stdout",
     "output_type": "stream",
     "text": [
      "3090\n",
      "35515\n",
      "8878\n"
     ]
    }
   ],
   "source": [
    "n_nonsurv = data['subject_id'][data.mort_icu==1].dropna().unique().shape[0]\n",
    "n_less = data['subject_id'][data.mort_icu==0].dropna().unique().shape[0]\n",
    "quarter = n_less // 4\n",
    "print(n_nonsurv)\n",
    "print(n_less)\n",
    "print(quarter)"
   ]
  },
  {
   "cell_type": "code",
   "execution_count": 96,
   "metadata": {},
   "outputs": [
    {
     "name": "stderr",
     "output_type": "stream",
     "text": [
      "/home/duhao/.virtualenvs/3/lib/python3.5/site-packages/ipykernel_launcher.py:2: UserWarning: Boolean Series key will be reindexed to match DataFrame index.\n",
      "  \n",
      "/home/duhao/.virtualenvs/3/lib/python3.5/site-packages/ipykernel_launcher.py:4: SettingWithCopyWarning: \n",
      "A value is trying to be set on a copy of a slice from a DataFrame.\n",
      "Try using .loc[row_indexer,col_indexer] = value instead\n",
      "\n",
      "See the caveats in the documentation: http://pandas.pydata.org/pandas-docs/stable/indexing.html#indexing-view-versus-copy\n",
      "  after removing the cwd from sys.path.\n"
     ]
    }
   ],
   "source": [
    "data_nonsurv = data[data.mort_icu == 1]\n",
    "data_firstq = data.sort_values(by=['los'])[data.mort_icu == 0].head(quarter)\n",
    "los_firstq = data.sort_values(by=['los'])['los'][data.mort_icu == 0].head(quarter).max()\n",
    "data_nonsurv['Non_survive'] = 1\n",
    "data_firstq['Non_survive'] = 0"
   ]
  },
  {
   "cell_type": "code",
   "execution_count": 97,
   "metadata": {},
   "outputs": [],
   "source": [
    "#data_firstq"
   ]
  },
  {
   "cell_type": "code",
   "execution_count": 98,
   "metadata": {},
   "outputs": [],
   "source": [
    "data_table1 = pd.concat([data_nonsurv, data_firstq], ignore_index=True)"
   ]
  },
  {
   "cell_type": "code",
   "execution_count": 107,
   "metadata": {},
   "outputs": [],
   "source": [
    "#data_table1"
   ]
  },
  {
   "cell_type": "code",
   "execution_count": 100,
   "metadata": {
    "collapsed": true
   },
   "outputs": [],
   "source": [
    "columns = ['mort_icu', 'mort_hosp', 'first_admit_age', 'gender', 'oasis', 'aniongap_max', 'aniongap_min', 'albumin_max',\n",
    "       'albumin_min', 'bicarbonate_max', 'bicarbonate_min', 'bilirubin_max',\n",
    "       'bilirubin_min', 'creatinine_max', 'creatinine_min', 'chloride_max',\n",
    "       'chloride_min', 'glucose_max', 'glucose_min', 'glucose2_max',\n",
    "       'glucose2_min', 'hematocrit_max', 'hematocrit_min', 'hemoglobin_max',\n",
    "       'hemoglobin_min', 'lactate_max', 'lactate_min', 'magnesium_max',\n",
    "       'magnesium_min', 'phosphate_max', 'phosphate_min', 'platelet_max',\n",
    "       'platelet_min', 'potassium_max', 'potassium_min', 'ptt_max', 'ptt_min',\n",
    "       'inr_max', 'inr_min', 'pt_max', 'pt_min', 'sodium_max', 'sodium_min',\n",
    "       'bun_max', 'bun_min', 'wbc_max', 'wbc_min', 'calcium_max',\n",
    "       'calcium_min', 'freecalcium_max', 'freecalcium_min']\n",
    "categorical = ['mort_icu', 'mort_hosp', 'gender', 'first_careunit', 'last_careunit', 'vasopressor_1']\n",
    "nonnormal = ['first_admit_age']\n",
    "groupby = 'Non_survive'"
   ]
  },
  {
   "cell_type": "code",
   "execution_count": 101,
   "metadata": {},
   "outputs": [],
   "source": [
    "overall_table = TableOne(data_table1, columns, categorical, groupby, nonnormal, pval=True)"
   ]
  },
  {
   "cell_type": "code",
   "execution_count": 102,
   "metadata": {},
   "outputs": [
    {
     "data": {
      "text/plain": [
       "Stratified by Non_survive\n",
       "                                0                    1                      isnull  pval    testname\n",
       "------------------------------  -------------------  -------------------  --------  ------  --------------\n",
       "n                               8878                 3090                        0\n",
       "first_admit_age (median [IQR])  63.05 [49.96,75.83]  73.18 [59.84,82.56]         0  0.000   Kruskal-Wallis\n",
       "oasis (mean (std))              27.07 (7.81)         41.34 (9.27)                0  0.000   One_way_ANOVA\n",
       "aniongap_max (mean (std))       15.14 (4.07)         19.43 (6.09)              519  0.000   One_way_ANOVA\n",
       "aniongap_min (mean (std))       12.55 (2.87)         15.02 (4.62)              519  0.000   One_way_ANOVA\n",
       "albumin_max (mean (std))        3.53 (0.68)          2.98 (0.74)              7575  0.000   One_way_ANOVA\n",
       "albumin_min (mean (std))        3.47 (0.68)          2.83 (0.76)              7575  0.000   One_way_ANOVA\n",
       "bicarbonate_max (mean (std))    25.73 (3.58)         23.60 (5.48)              399  0.000   One_way_ANOVA\n",
       "bicarbonate_min (mean (std))    23.41 (3.89)         19.55 (6.12)              399  0.000   One_way_ANOVA\n",
       "bilirubin_max (mean (std))      1.36 (3.20)          3.18 (6.73)              6636  0.000   One_way_ANOVA\n",
       "bilirubin_min (mean (std))      1.19 (2.85)          2.63 (5.85)              6636  0.000   One_way_ANOVA\n",
       "creatinine_max (mean (std))     1.27 (1.42)          1.91 (1.57)               230  0.000   One_way_ANOVA\n",
       "creatinine_min (mean (std))     1.06 (1.11)          1.53 (1.32)               230  0.000   One_way_ANOVA\n",
       "chloride_max (mean (std))       106.52 (5.20)        107.74 (7.77)             251  0.000   One_way_ANOVA\n",
       "chloride_min (mean (std))       102.22 (5.23)        101.37 (7.06)             251  0.000   One_way_ANOVA\n",
       "glucose_max (mean (std))        168.02 (92.80)       204.98 (109.14)          6836  0.000   One_way_ANOVA\n",
       "glucose_min (mean (std))        121.89 (64.20)       151.99 (80.27)           6836  0.000   One_way_ANOVA\n",
       "glucose2_max (mean (std))       154.99 (89.15)       204.52 (110.28)           532  0.000   One_way_ANOVA\n",
       "glucose2_min (mean (std))       114.71 (37.85)       126.90 (58.83)            532  0.000   One_way_ANOVA\n",
       "hematocrit_max (mean (std))     37.23 (5.55)         36.51 (6.35)              184  0.000   One_way_ANOVA\n",
       "hematocrit_min (mean (std))     31.31 (6.40)         29.94 (7.06)              184  0.000   One_way_ANOVA\n",
       "hemoglobin_max (mean (std))     12.54 (1.99)         12.11 (2.18)              210  0.000   One_way_ANOVA\n",
       "hemoglobin_min (mean (std))     10.69 (2.27)         10.04 (2.40)              210  0.000   One_way_ANOVA\n",
       "lactate_max (mean (std))        2.45 (1.79)          5.30 (4.46)              5388  0.000   One_way_ANOVA\n",
       "lactate_min (mean (std))        1.69 (1.05)          2.99 (2.70)              5388  0.000   One_way_ANOVA\n",
       "magnesium_max (mean (std))      2.08 (0.41)          2.28 (1.05)              1155  0.000   One_way_ANOVA\n",
       "magnesium_min (mean (std))      1.86 (0.32)          1.85 (0.43)              1155  0.019   One_way_ANOVA\n",
       "phosphate_max (mean (std))      3.75 (1.19)          4.84 (2.17)              2043  0.000   One_way_ANOVA\n",
       "phosphate_min (mean (std))      3.28 (1.00)          3.65 (1.74)              2043  0.000   One_way_ANOVA\n",
       "platelet_max (mean (std))       252.21 (109.70)      242.99 (134.48)           254  0.000   One_way_ANOVA\n",
       "platelet_min (mean (std))       212.50 (99.24)       186.84 (119.74)           254  0.000   One_way_ANOVA\n",
       "potassium_max (mean (std))      4.63 (0.88)          4.89 (1.09)               191  0.000   One_way_ANOVA\n",
       "potassium_min (mean (std))      3.77 (0.49)          3.78 (0.70)               191  0.429   One_way_ANOVA\n",
       "ptt_max (mean (std))            39.04 (26.74)        55.69 (39.61)            1400  0.000   One_way_ANOVA\n",
       "ptt_min (mean (std))            29.73 (11.68)        35.24 (19.22)            1400  0.000   One_way_ANOVA\n",
       "inr_max (mean (std))            1.45 (1.13)          2.14 (2.16)              1345  0.000   One_way_ANOVA\n",
       "inr_min (mean (std))            1.25 (0.54)          1.52 (0.96)              1345  0.000   One_way_ANOVA\n",
       "pt_max (mean (std))             15.40 (7.80)         19.97 (13.37)            1341  0.000   One_way_ANOVA\n",
       "pt_min (mean (std))             13.98 (4.31)         15.96 (7.08)             1341  0.000   One_way_ANOVA\n",
       "sodium_max (mean (std))         140.07 (3.72)        141.27 (6.42)             213  0.000   One_way_ANOVA\n",
       "sodium_min (mean (std))         136.77 (4.38)        136.13 (6.17)             213  0.000   One_way_ANOVA\n",
       "bun_max (mean (std))            22.82 (17.87)        38.03 (27.32)             228  0.000   One_way_ANOVA\n",
       "bun_min (mean (std))            18.76 (15.10)        31.75 (23.96)             228  0.000   One_way_ANOVA\n",
       "wbc_max (mean (std))            12.53 (9.98)         17.99 (22.32)             286  0.000   One_way_ANOVA\n",
       "wbc_min (mean (std))            9.54 (6.89)          12.71 (16.11)             286  0.000   One_way_ANOVA\n",
       "calcium_max (mean (std))        8.71 (0.75)          8.65 (1.35)              2038  0.010   One_way_ANOVA\n",
       "calcium_min (mean (std))        8.34 (0.78)          7.81 (1.14)              2038  0.000   One_way_ANOVA\n",
       "freecalcium_max (mean (std))    1.20 (0.13)          1.17 (0.22)              6930  0.000   One_way_ANOVA\n",
       "freecalcium_min (mean (std))    1.07 (0.10)          1.01 (0.17)              6930  0.000   One_way_ANOVA\n",
       "mort_icu (n (%))                                                                 0  0.000   Fisher exact\n",
       "0                               8878 (100.00)        0 (0.00)\n",
       "1                               0 (0.00)             3090 (100.00)\n",
       "mort_hosp (n (%))                                                                0  0.000   Chi-squared\n",
       "0                               8658 (97.52)         12 (0.39)\n",
       "1                               220 (2.48)           3078 (99.61)\n",
       "gender (n (%))                                                                   0  0.000   Chi-squared\n",
       "F                               3766 (42.42)         1465 (47.41)\n",
       "M                               5112 (57.58)         1625 (52.59)\n",
       "first_careunit (n (%))                                                           0  0.000   Chi-squared\n",
       "CCU                             1278 (14.40)         489 (15.83)\n",
       "CSRU                            1760 (19.82)         217 (7.02)\n",
       "MICU                            3220 (36.27)         1359 (43.98)\n",
       "SICU                            1369 (15.42)         594 (19.22)\n",
       "TSICU                           1251 (14.09)         431 (13.95)\n",
       "last_careunit (n (%))                                                            0  0.000   Chi-squared\n",
       "CCU                             1277 (14.38)         459 (14.85)\n",
       "CSRU                            1759 (19.81)         204 (6.60)\n",
       "MICU                            3216 (36.22)         1378 (44.60)\n",
       "SICU                            1377 (15.51)         640 (20.71)\n",
       "TSICU                           1249 (14.07)         409 (13.24)\n",
       "vasopressor_1 (n (%))                                                            0  0.000   Chi-squared\n",
       "0                               7441 (83.81)         968 (31.33)\n",
       "1                               1437 (16.19)         2122 (68.67)"
      ]
     },
     "execution_count": 102,
     "metadata": {},
     "output_type": "execute_result"
    }
   ],
   "source": [
    "overall_table"
   ]
  },
  {
   "cell_type": "code",
   "execution_count": 104,
   "metadata": {},
   "outputs": [],
   "source": [
    "from scipy.stats import mstats\n",
    "from scipy.stats import mannwhitneyu\n",
    "from scipy.stats import f_oneway"
   ]
  },
  {
   "cell_type": "code",
   "execution_count": 105,
   "metadata": {},
   "outputs": [],
   "source": [
    "data1 = data_table1.loc[data_table1.Non_survive==1, 'hematocrit_max']\n",
    "data2 = data_table1.loc[data_table1.Non_survive==0, 'hematocrit_max']\n",
    "H, pval = f_oneway(data1.values, data2.values)"
   ]
  },
  {
   "cell_type": "code",
   "execution_count": 106,
   "metadata": {},
   "outputs": [
    {
     "data": {
      "text/plain": [
       "nan"
      ]
     },
     "execution_count": 106,
     "metadata": {},
     "output_type": "execute_result"
    }
   ],
   "source": [
    "pval"
   ]
  },
  {
   "cell_type": "code",
   "execution_count": null,
   "metadata": {
    "collapsed": true
   },
   "outputs": [],
   "source": []
  }
 ],
 "metadata": {
  "kernelspec": {
   "display_name": "Python 3",
   "language": "python",
   "name": "python3"
  },
  "language_info": {
   "codemirror_mode": {
    "name": "ipython",
    "version": 3
   },
   "file_extension": ".py",
   "mimetype": "text/x-python",
   "name": "python",
   "nbconvert_exporter": "python",
   "pygments_lexer": "ipython3",
   "version": "3.5.2"
  }
 },
 "nbformat": 4,
 "nbformat_minor": 2
}

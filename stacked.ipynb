{
 "cells": [
  {
   "cell_type": "code",
   "execution_count": 1,
   "metadata": {
    "collapsed": true
   },
   "outputs": [],
   "source": [
    "import numpy as np\n",
    "import pandas as pd\n",
    "import matplotlib.pyplot as plt\n",
    "import psycopg2\n",
    "from scipy.stats import ks_2samp\n",
    "%matplotlib inline\n",
    "plt.style.use('ggplot')"
   ]
  },
  {
   "cell_type": "code",
   "execution_count": 2,
   "metadata": {
    "collapsed": true
   },
   "outputs": [],
   "source": [
    "data = pd.read_csv(\"all_data_final.csv\", index_col=0)\n",
    "lab_columns = data.columns.values[1:]"
   ]
  },
  {
   "cell_type": "code",
   "execution_count": 207,
   "metadata": {
    "collapsed": false
   },
   "outputs": [],
   "source": [
    "data"
   ]
  },
  {
   "cell_type": "code",
   "execution_count": 4,
   "metadata": {
    "collapsed": true
   },
   "outputs": [],
   "source": [
    "l = 'LACTATE'\n",
    "LOS_med = data['los'].dropna().median()\n",
    "cond_less = (data.mort_icu==0) & (data.los < LOS_med)\n",
    "n_nonsurv = data[l.lower()+'_1st'][data.mort_icu==1].dropna().count()\n",
    "n_less = data[l.lower()+'_1st'][cond_less].dropna().count()\n",
    "quater = n_less / 4"
   ]
  },
  {
   "cell_type": "code",
   "execution_count": 5,
   "metadata": {
    "collapsed": false
   },
   "outputs": [
    {
     "name": "stdout",
     "output_type": "stream",
     "text": [
      "2528\n",
      "10431\n",
      "2607\n"
     ]
    }
   ],
   "source": [
    "print n_nonsurv\n",
    "print n_less\n",
    "print quater"
   ]
  },
  {
   "cell_type": "code",
   "execution_count": 6,
   "metadata": {
    "collapsed": false
   },
   "outputs": [],
   "source": [
    "nonsurv = data[l.lower()+'_1st'][data.mort_icu==1].dropna()\n",
    "nonsurv.to_csv(\"nonsurv_lat.csv\")"
   ]
  },
  {
   "cell_type": "code",
   "execution_count": 7,
   "metadata": {
    "collapsed": false
   },
   "outputs": [
    {
     "data": {
      "text/plain": [
       "(2528,)"
      ]
     },
     "execution_count": 7,
     "metadata": {},
     "output_type": "execute_result"
    }
   ],
   "source": [
    "nonsurv.shape"
   ]
  },
  {
   "cell_type": "code",
   "execution_count": 8,
   "metadata": {
    "collapsed": false
   },
   "outputs": [],
   "source": [
    "first_quater = data.sort_values(by=['los'])[l.lower()+'_1st'][cond_less].dropna().head(quater)\n",
    "first_quater.to_csv(\"first_quater_lat.csv\")"
   ]
  },
  {
   "cell_type": "code",
   "execution_count": 9,
   "metadata": {
    "collapsed": false
   },
   "outputs": [
    {
     "data": {
      "text/plain": [
       "(2607,)"
      ]
     },
     "execution_count": 9,
     "metadata": {},
     "output_type": "execute_result"
    }
   ],
   "source": [
    "first_quater.shape"
   ]
  },
  {
   "cell_type": "code",
   "execution_count": 10,
   "metadata": {
    "collapsed": false
   },
   "outputs": [],
   "source": [
    "sec_quater = data.sort_values(by=['los'])[l.lower()+'_1st'][cond_less].dropna()[quater:quater*2]\n",
    "sec_quater.to_csv(\"second_quater_lat.csv\")"
   ]
  },
  {
   "cell_type": "code",
   "execution_count": 11,
   "metadata": {
    "collapsed": false
   },
   "outputs": [
    {
     "data": {
      "text/plain": [
       "(2607,)"
      ]
     },
     "execution_count": 11,
     "metadata": {},
     "output_type": "execute_result"
    }
   ],
   "source": [
    "sec_quater.shape"
   ]
  },
  {
   "cell_type": "code",
   "execution_count": 12,
   "metadata": {
    "collapsed": true
   },
   "outputs": [],
   "source": [
    "third_quater = data.sort_values(by=['los'])[l.lower()+'_1st'][cond_less].dropna()[quater*2:quater*3]\n",
    "third_quater.to_csv(\"third_quater_lat.csv\")"
   ]
  },
  {
   "cell_type": "code",
   "execution_count": 13,
   "metadata": {
    "collapsed": false
   },
   "outputs": [
    {
     "data": {
      "text/plain": [
       "(2607,)"
      ]
     },
     "execution_count": 13,
     "metadata": {},
     "output_type": "execute_result"
    }
   ],
   "source": [
    "third_quater.shape"
   ]
  },
  {
   "cell_type": "code",
   "execution_count": 14,
   "metadata": {
    "collapsed": true
   },
   "outputs": [],
   "source": [
    "fourth_quater = data.sort_values(by=['los'])[l.lower()+'_1st'][cond_less].dropna()[quater*3:]\n",
    "fourth_quater.to_csv(\"fourth_quater_lat.csv\")"
   ]
  },
  {
   "cell_type": "code",
   "execution_count": 15,
   "metadata": {
    "collapsed": false
   },
   "outputs": [
    {
     "data": {
      "text/plain": [
       "(2610,)"
      ]
     },
     "execution_count": 15,
     "metadata": {},
     "output_type": "execute_result"
    }
   ],
   "source": [
    "fourth_quater.shape"
   ]
  },
  {
   "cell_type": "code",
   "execution_count": 31,
   "metadata": {
    "collapsed": false
   },
   "outputs": [],
   "source": [
    "first_quater.values.sort()\n",
    "nonsurv.values.sort()"
   ]
  },
  {
   "cell_type": "code",
   "execution_count": 32,
   "metadata": {
    "collapsed": false
   },
   "outputs": [],
   "source": [
    "non = pd.Series(nonsurv.values, name='Non-survival')\n",
    "first = pd.Series(first_quater.values, name='First Quarter')"
   ]
  },
  {
   "cell_type": "code",
   "execution_count": 48,
   "metadata": {
    "collapsed": false
   },
   "outputs": [],
   "source": [
    "df = first.to_frame().join(non.to_frame())\n",
    "#first_quater\n",
    "#non\n",
    "#df = df.divide(df.sum(axis=1), axis=0)"
   ]
  },
  {
   "cell_type": "code",
   "execution_count": 55,
   "metadata": {
    "collapsed": false,
    "scrolled": true
   },
   "outputs": [],
   "source": [
    "range1 = max(df['Non-survival'].max(), df['First Quarter'].max())\n",
    "range2 = min(df['Non-survival'].min(), df['First Quarter'].min())"
   ]
  },
  {
   "cell_type": "code",
   "execution_count": 156,
   "metadata": {
    "collapsed": true
   },
   "outputs": [],
   "source": [
    "x_range = np.linspace(range1, range2, num=50)"
   ]
  },
  {
   "cell_type": "code",
   "execution_count": 157,
   "metadata": {
    "collapsed": false
   },
   "outputs": [],
   "source": [
    "x_range = np.sort(x_range)"
   ]
  },
  {
   "cell_type": "code",
   "execution_count": 206,
   "metadata": {
    "collapsed": false
   },
   "outputs": [],
   "source": [
    "x_range"
   ]
  },
  {
   "cell_type": "code",
   "execution_count": 205,
   "metadata": {
    "collapsed": false
   },
   "outputs": [],
   "source": [
    "for x, i in enumerate(x_range[:-1]):\n",
    "    #pass\n",
    "    print i, x_range[x+1]"
   ]
  },
  {
   "cell_type": "code",
   "execution_count": 186,
   "metadata": {
    "collapsed": true
   },
   "outputs": [],
   "source": [
    "_df = pd.DataFrame(columns=['Non-survival', 'First Quarter', 'Second Quarter', 'Third Quarter', 'Fourth Quarter'])"
   ]
  },
  {
   "cell_type": "code",
   "execution_count": 187,
   "metadata": {
    "collapsed": false,
    "scrolled": true
   },
   "outputs": [],
   "source": [
    "_df['range'] = x_range"
   ]
  },
  {
   "cell_type": "code",
   "execution_count": 188,
   "metadata": {
    "collapsed": true
   },
   "outputs": [],
   "source": [
    "x_range = np.array(x_range)"
   ]
  },
  {
   "cell_type": "code",
   "execution_count": 189,
   "metadata": {
    "collapsed": false
   },
   "outputs": [],
   "source": [
    "for index, row in _df.iterrows():\n",
    "    count_non = 0\n",
    "    count_1st = 0\n",
    "    count_2nd = 0\n",
    "    count_3rd = 0\n",
    "    count_4th = 0 \n",
    "    if row['range'] != 28.8:\n",
    "        for i in nonsurv.values:\n",
    "            if i >= row['range'] and i < _df.iloc[index+1]['range']:\n",
    "                count_non += 1 \n",
    "    if row['range'] != 28.8:\n",
    "        for i in first_quater.values:\n",
    "            if i >= row['range'] and i < _df.iloc[index+1]['range']:\n",
    "                count_1st += 1 \n",
    "    if row['range'] != 28.8:\n",
    "        for i in sec_quater.values:\n",
    "            if i >= row['range'] and i < _df.iloc[index+1]['range']:\n",
    "                count_2nd += 1\n",
    "    if row['range'] != 28.8:\n",
    "        for i in third_quater.values:\n",
    "            if i >= row['range'] and i < _df.iloc[index+1]['range']:\n",
    "                count_3rd += 1\n",
    "    if row['range'] != 28.8:\n",
    "        for i in fourth_quater.values:\n",
    "            if i >= row['range'] and i < _df.iloc[index+1]['range']:\n",
    "                count_4th += 1\n",
    "    _df.set_value(index, 'Non-survival', count_non)\n",
    "    _df.set_value(index, 'First Quarter', count_1st)\n",
    "    _df.set_value(index, 'Second Quarter', count_2nd)\n",
    "    _df.set_value(index, 'Third Quarter', count_3rd)\n",
    "    _df.set_value(index, 'Fourth Quarter', count_4th)"
   ]
  },
  {
   "cell_type": "code",
   "execution_count": 194,
   "metadata": {
    "collapsed": false
   },
   "outputs": [],
   "source": [
    "_df2 = _df.set_index(['range'])\n",
    "#_df"
   ]
  },
  {
   "cell_type": "code",
   "execution_count": 196,
   "metadata": {
    "collapsed": false
   },
   "outputs": [],
   "source": [
    "_df2 = _df2[(_df2 != 0).all(1)]"
   ]
  },
  {
   "cell_type": "code",
   "execution_count": 203,
   "metadata": {
    "collapsed": false
   },
   "outputs": [],
   "source": [
    "#_df2"
   ]
  },
  {
   "cell_type": "code",
   "execution_count": 209,
   "metadata": {
    "collapsed": false,
    "scrolled": false
   },
   "outputs": [
    {
     "data": {
      "text/plain": [
       "<matplotlib.text.Text at 0x7f2476201990>"
      ]
     },
     "execution_count": 209,
     "metadata": {},
     "output_type": "execute_result"
    },
    {
     "data": {
      "image/png": "[encoded data removed]",
      "text/plain": [
       "<matplotlib.figure.Figure at 0x7f247628fb50>"
      ]
     },
     "metadata": {},
     "output_type": "display_data"
    }
   ],
   "source": [
    "_df3 = _df2.divide(_df2.sum(axis=1), axis=0)\n",
    "_df3.plot(kind='area', stacked=True, title='100 % stacked area chart', figsize=(13, 6))\n",
    "fig = plt.gcf()\n",
    "ax = plt.gca()\n",
    "plt.xlabel('Lactate (mmol/L)', fontsize=18)\n",
    "#_df2"
   ]
  },
  {
   "cell_type": "code",
   "execution_count": 202,
   "metadata": {
    "collapsed": false
   },
   "outputs": [],
   "source": [
    "#_df2"
   ]
  }
 ],
 "metadata": {
  "kernelspec": {
   "display_name": "Python 2",
   "language": "python",
   "name": "python2"
  },
  "language_info": {
   "codemirror_mode": {
    "name": "ipython",
    "version": 2
   },
   "file_extension": ".py",
   "mimetype": "text/x-python",
   "name": "python",
   "nbconvert_exporter": "python",
   "pygments_lexer": "ipython2",
   "version": "2.7.13"
  }
 },
 "nbformat": 4,
 "nbformat_minor": 2
}
